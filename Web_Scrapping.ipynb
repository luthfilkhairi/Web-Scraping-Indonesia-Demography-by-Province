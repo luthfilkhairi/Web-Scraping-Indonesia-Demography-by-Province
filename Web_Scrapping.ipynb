{
  "nbformat": 4,
  "nbformat_minor": 0,
  "metadata": {
    "colab": {
      "name": "Web Scrapping.ipynb",
      "provenance": []
    },
    "kernelspec": {
      "name": "python3",
      "display_name": "Python 3"
    },
    "language_info": {
      "name": "python"
    }
  },
  "cells": [
    {
      "cell_type": "markdown",
      "metadata": {
        "id": "owIojgm6Wnpd"
      },
      "source": [
        "# Web Scrapping Indonesia_Demography_by_Province\n",
        "Data di ambil dari https://id.wikipedia.org/wiki/Demografi_Indonesia\n",
        "\n",
        "Output yang dihasilkan adalah \"**Jumlah Penduduk menurut Provinsi**\", \n",
        "File disimpan dalam format **CSV**."
      ]
    },
    {
      "cell_type": "code",
      "metadata": {
        "id": "OTUPiTh6WWkF"
      },
      "source": [
        "import sys\n",
        "sys.setrecursionlimit(5000)\n",
        "\n",
        "#import library yang dibutuhkan\n",
        "import pandas as pd\n",
        "import requests\n",
        "from bs4 import BeautifulSoup"
      ],
      "execution_count": null,
      "outputs": []
    },
    {
      "cell_type": "code",
      "metadata": {
        "id": "lP-pbdZIWZPI"
      },
      "source": [
        "#request ke website\n",
        "website_url = requests.get('https://id.wikipedia.org/wiki/Demografi_Indonesia').text\n",
        "soup = BeautifulSoup(website_url, 'html.parser')\n",
        "\n",
        "#mengambil table dengan class 'wikitable sortable'\n",
        "my_table = soup.find('table', {'class':'wikitable sortable'})\n",
        "\n",
        "#cari data dengan tag 'td'\n",
        "links = my_table.find_all('td')"
      ],
      "execution_count": null,
      "outputs": []
    },
    {
      "cell_type": "code",
      "metadata": {
        "id": "GF7iIUI_Wdy2"
      },
      "source": [
        "#membuat lists kosong \n",
        "nama = []\n",
        "luas_km = []\n",
        "populasi10 = []\n",
        "populasi20 = []\n",
        "\n",
        "#memasukkan data ke dalam list berdasarkan pola HTML\n",
        "for i, link in enumerate(links):\n",
        "\tif i in range(0, len(links), 4) :\n",
        "\t\tnama.append(link.get_text())\n",
        "\tif i in range(1, len(links), 4):\n",
        "\t\tluas_km.append(link.get_text())\n",
        "\tif i in range(2, len(links), 4):\n",
        "\t\tpopulasi10.append(link.get_text())\n",
        "\tif i in range(3, len(links), 4):\n",
        "\t\tpopulasi20.append(link.get_text())"
      ],
      "execution_count": null,
      "outputs": []
    },
    {
      "cell_type": "code",
      "metadata": {
        "id": "cjOgtwbHWiUF"
      },
      "source": [
        "#membuat DataFrame dan masukkan ke CSV\n",
        "df = pd.DataFrame()\n",
        "df['Nama Provinsi'] = nama\n",
        "df['Luas km'] = luas_km\n",
        "df['Populasi 2010'] = populasi10\n",
        "df['Populasi 2020'] = populasi20\n",
        "df.to_csv('Indonesia_Demography_by_Province.csv', index=False, encoding='utf-8', quoting=1)\n",
        "print(df)"
      ],
      "execution_count": null,
      "outputs": []
    }
  ]
}